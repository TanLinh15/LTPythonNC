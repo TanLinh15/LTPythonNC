{
  "nbformat": 4,
  "nbformat_minor": 0,
  "metadata": {
    "colab": {
      "name": "Lab01_chuong6.ipynb",
      "provenance": [],
      "authorship_tag": "ABX9TyOQT+nAbP1saT4BNmvZLQnR",
      "include_colab_link": true
    },
    "kernelspec": {
      "name": "python3",
      "display_name": "Python 3"
    },
    "language_info": {
      "name": "python"
    }
  },
  "cells": [
    {
      "cell_type": "markdown",
      "metadata": {
        "id": "view-in-github",
        "colab_type": "text"
      },
      "source": [
        "<a href=\"https://colab.research.google.com/github/TanLinh15/LTPythonNC/blob/main/Lab01/Lab01_chuong6.ipynb\" target=\"_parent\"><img src=\"https://colab.research.google.com/assets/colab-badge.svg\" alt=\"Open In Colab\"/></a>"
      ]
    },
    {
      "cell_type": "markdown",
      "metadata": {
        "id": "Ke4uKqrqwLZB"
      },
      "source": [
        "Cau 1:"
      ]
    },
    {
      "cell_type": "code",
      "metadata": {
        "colab": {
          "base_uri": "https://localhost:8080/"
        },
        "id": "aKNoGGX9vanz",
        "outputId": "44042d1e-f6ed-4a40-dd7b-0ae3fe8a4980"
      },
      "source": [
        "import math\n",
        "print(math.floor(-2.8))\n",
        "print(abs(round(-4.3)))\n",
        "print(math.ceil(math.sin(34.5)))"
      ],
      "execution_count": 6,
      "outputs": [
        {
          "output_type": "stream",
          "name": "stdout",
          "text": [
            "-3\n",
            "4\n",
            "1\n"
          ]
        }
      ]
    },
    {
      "cell_type": "markdown",
      "metadata": {
        "id": "tt2Bl2HowQ_f"
      },
      "source": [
        "Cau 2:"
      ]
    },
    {
      "cell_type": "code",
      "metadata": {
        "colab": {
          "base_uri": "https://localhost:8080/"
        },
        "id": "CncYWY76wS5a",
        "outputId": "60d872ab-b3d4-44d9-de64-71ad35d06032"
      },
      "source": [
        "#câu a\n",
        "import calendar\n",
        "#câu b\n",
        "print(help(calendar.isleap))\n",
        "#câu c\n",
        "print(calendar.isleap(2016))\n",
        "#câu d\n",
        "print(dir(calendar))\n",
        "#câu e\n",
        "print(calendar.leapdays(2000, 2050))\n",
        "#câu f\n",
        "print(calendar.weekday(2016, 7, 29))\n"
      ],
      "execution_count": 9,
      "outputs": [
        {
          "output_type": "stream",
          "name": "stdout",
          "text": [
            "Help on function isleap in module calendar:\n",
            "\n",
            "isleap(year)\n",
            "    Return True for leap years, False for non-leap years.\n",
            "\n",
            "None\n",
            "True\n",
            "['Calendar', 'EPOCH', 'FRIDAY', 'February', 'HTMLCalendar', 'IllegalMonthError', 'IllegalWeekdayError', 'January', 'LocaleHTMLCalendar', 'LocaleTextCalendar', 'MONDAY', 'SATURDAY', 'SUNDAY', 'THURSDAY', 'TUESDAY', 'TextCalendar', 'WEDNESDAY', '_EPOCH_ORD', '__all__', '__builtins__', '__cached__', '__doc__', '__file__', '__loader__', '__name__', '__package__', '__spec__', '_colwidth', '_locale', '_localized_day', '_localized_month', '_spacing', 'c', 'calendar', 'datetime', 'day_abbr', 'day_name', 'different_locale', 'error', 'firstweekday', 'format', 'formatstring', 'isleap', 'leapdays', 'main', 'mdays', 'month', 'month_abbr', 'month_name', 'monthcalendar', 'monthlen', 'monthrange', 'nextmonth', 'prcal', 'prevmonth', 'prmonth', 'prweek', 'repeat', 'setfirstweekday', 'sys', 'timegm', 'week', 'weekday', 'weekheader']\n",
            "13\n",
            "4\n"
          ]
        }
      ]
    },
    {
      "cell_type": "markdown",
      "metadata": {
        "id": "4gBvkSiUw8CV"
      },
      "source": [
        "Cau 3:"
      ]
    },
    {
      "cell_type": "code",
      "metadata": {
        "colab": {
          "base_uri": "https://localhost:8080/"
        },
        "id": "WWQAbpp3w9kg",
        "outputId": "f1513e75-fced-41df-bc7b-216fadaf1250"
      },
      "source": [
        "def average(num1: float, num2: float) -> float:\n",
        "  return (num1+num2)/2\n",
        "print(average(10,20))\n",
        "print(average(2.5, 3.0))\n"
      ],
      "execution_count": 19,
      "outputs": [
        {
          "output_type": "stream",
          "name": "stdout",
          "text": [
            "15.0\n",
            "2.75\n"
          ]
        }
      ]
    }
  ]
}