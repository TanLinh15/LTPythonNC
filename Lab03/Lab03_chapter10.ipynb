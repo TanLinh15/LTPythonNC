{
  "nbformat": 4,
  "nbformat_minor": 2,
  "metadata": {
    "colab": {
      "name": "Lab03_chapter10.ipynb",
      "provenance": [],
      "collapsed_sections": [],
      "authorship_tag": "ABX9TyNT87bYK4MNxGX4SSPpogjP",
      "include_colab_link": true
    },
    "kernelspec": {
      "name": "python3",
      "display_name": "Python 3.9.7 64-bit"
    },
    "language_info": {
      "name": "python",
      "version": "3.9.7",
      "mimetype": "text/x-python",
      "codemirror_mode": {
        "name": "ipython",
        "version": 3
      },
      "pygments_lexer": "ipython3",
      "nbconvert_exporter": "python",
      "file_extension": ".py"
    },
    "interpreter": {
      "hash": "1b09a2114f766ade8c96d59fac53e9a7786b8135e6a60da3583914e83d6a2b76"
    }
  },
  "cells": [
    {
      "cell_type": "markdown",
      "source": [
        "<a href=\"https://colab.research.google.com/github/TanLinh15/LTPythonNC/blob/main/Lab03/Lab03_chapter10.ipynb\" target=\"_parent\"><img src=\"https://colab.research.google.com/assets/colab-badge.svg\" alt=\"Open In Colab\"/></a>"
      ],
      "metadata": {
        "id": "view-in-github",
        "colab_type": "text"
      }
    },
    {
      "cell_type": "markdown",
      "source": [
        "Bai 1"
      ],
      "metadata": {
        "id": "XNfMc3ckUpNS"
      }
    },
    {
      "cell_type": "code",
      "execution_count": 17,
      "source": [
        "filename = input('Which file would you like to back-up? ')\r\n",
        "new_filename = filename + '.bak'\r\n",
        "backup = open(new_filename, 'w')\r\n",
        "try:\r\n",
        "    file = open(filename)\r\n",
        "    for line in open(filename):\r\n",
        "        backup.write(line)\r\n",
        " \r\n",
        "    backup.close()\r\n",
        "except IOError:\r\n",
        "    print('File khong ton tai')\r\n",
        "print('Xong')\r\n"
      ],
      "outputs": [],
      "metadata": {
        "colab": {
          "base_uri": "https://localhost:8080/"
        },
        "id": "iWQdjIjrUg0v",
        "outputId": "06ff82c3-d12a-4292-aec7-abc429370dff"
      }
    },
    {
      "cell_type": "markdown",
      "source": [
        "Bai 2"
      ],
      "metadata": {
        "id": "T4-4knJFVgKw"
      }
    },
    {
      "cell_type": "code",
      "execution_count": 17,
      "source": [
        "alkaline_metals = []\r\n",
        "for line in open('alkaline_metals.txt'):\r\n",
        " alkaline_metals.append(line.strip().split(' '))\r\n",
        "print(alkaline_metals)"
      ],
      "outputs": [
        {
          "output_type": "stream",
          "name": "stdout",
          "text": [
            "[['beryllium', '4', '9.012'], ['magnesium', '12', '24.305'], ['calcium', '20', '20.078'], ['strontium', '38', '87.62'], ['barium', '56', '137.327'], ['radium', '88', '226']]\n"
          ]
        }
      ],
      "metadata": {
        "id": "O224FS7eVerQ",
        "colab": {
          "base_uri": "https://localhost:8080/"
        },
        "outputId": "eedf7dac-a197-4cbf-9208-e8ed05b2aebc"
      }
    },
    {
      "cell_type": "markdown",
      "source": [
        "Bai 3"
      ],
      "metadata": {
        "id": "5sCvYOWbYCXW"
      }
    },
    {
      "cell_type": "code",
      "execution_count": 9,
      "source": [
        "content = []\r\n",
        "for line in open('tanlinh.txt'):\r\n",
        "    content.append(line)\r\n",
        "print('Doc nguoc file :\\n ',)\r\n",
        "for line in reversed(content):\r\n",
        "    print(line)"
      ],
      "outputs": [
        {
          "output_type": "stream",
          "name": "stdout",
          "text": [
            "Doc nguoc file :\n",
            " \n",
            "CNTT\n",
            "21 \n",
            "\n",
            "TP.HCM\n",
            "\n",
            "Luu Tan Linh\n",
            "\n"
          ]
        }
      ],
      "metadata": {}
    },
    {
      "cell_type": "markdown",
      "source": [
        "Bai 4"
      ],
      "metadata": {
        "id": "mwLWSdjMYET1"
      }
    },
    {
      "cell_type": "code",
      "execution_count": 2,
      "source": [
        "def skip_header(reader):\r\n",
        "    \r\n",
        "    # Read the description line and then the comment lines.\r\n",
        "    line = reader.readline()    \r\n",
        "    line = reader.readline()\r\n",
        "    while line.startswith('#'):\r\n",
        "        line = reader.readline() \r\n",
        "    # Now line contains the first real piece of data.\r\n",
        "    return line\r\n",
        "\r\n",
        "def process_file(reader):\r\n",
        "    # Find the first piece of data.\r\n",
        "    line = skip_header(reader).strip()\r\n",
        "    print(line)\r\n",
        "    # Read the rest of the data.\r\n",
        "    for line in reader:\r\n",
        "        line = line.strip()\r\n",
        "        print(line)\r\n",
        "\r\n",
        "input_file = open('tanlinh.txt', 'r')\r\n",
        "process_file(input_file)\r\n",
        "input_file.close()"
      ],
      "outputs": [
        {
          "output_type": "stream",
          "name": "stdout",
          "text": [
            "TP.HCM\n",
            "21\n"
          ]
        }
      ],
      "metadata": {
        "id": "STcD36R3YF7f"
      }
    },
    {
      "cell_type": "markdown",
      "source": [
        "Bai 5"
      ],
      "metadata": {}
    },
    {
      "cell_type": "code",
      "execution_count": 8,
      "source": [
        "def smallest_value_skip(reader):\r\n",
        "    line = skip_header(reader).strip()\r\n",
        "    # Only execute this code, if there is data following the header.\r\n",
        "    if line != '':\r\n",
        "        smallest = line\r\n",
        "    for line in reader:\r\n",
        "        line = line.strip()\r\n",
        "        if line != '-':\r\n",
        "            value = line\r\n",
        "            smallest = min(smallest, value)\r\n",
        "    return smallest\r\n",
        "\r\n",
        "input_file = open('tanlinh.txt', 'r')\r\n",
        "print(smallest_value_skip(input_file))\r\n",
        "input_file.close()"
      ],
      "outputs": [
        {
          "output_type": "stream",
          "name": "stdout",
          "text": [
            "21\n"
          ]
        }
      ],
      "metadata": {}
    },
    {
      "cell_type": "markdown",
      "source": [
        "Bai 6"
      ],
      "metadata": {}
    },
    {
      "cell_type": "code",
      "execution_count": 14,
      "source": [
        "def smallest_value_skip2(reader):\r\n",
        "    line = skip_header(reader).strip()\r\n",
        "    # Now line contains the first data value; this is also the smallest value\r\n",
        "    # found so far, because it is the only one we have seen.\r\n",
        "    smallest = line\r\n",
        "\r\n",
        "    for line in reader: \r\n",
        "        line = line.strip()\r\n",
        "        if line == '-':\r\n",
        "            continue\r\n",
        "\r\n",
        "    value = line\r\n",
        "    smallest = min(smallest, value)\r\n",
        "\r\n",
        "    return smallest\r\n",
        "\r\n",
        "input_file = open('tanlinh.txt', 'r')\r\n",
        "print(smallest_value_skip2(input_file))\r\n",
        "input_file.close()"
      ],
      "outputs": [
        {
          "output_type": "stream",
          "name": "stdout",
          "text": [
            "CNTT\n"
          ]
        }
      ],
      "metadata": {}
    },
    {
      "cell_type": "markdown",
      "source": [
        "Bai 7"
      ],
      "metadata": {}
    },
    {
      "cell_type": "code",
      "execution_count": 16,
      "source": [
        "def read_molecule(reader):\r\n",
        "    content = []\r\n",
        "    for line in reader:\r\n",
        "        if not line.startswith('CMNT'):\r\n",
        "            if not line.isspace():\r\n",
        "                content.append(line.strip())\r\n",
        "    for line in content:\r\n",
        "        print(line)\r\n",
        "    \r\n",
        "input_file = open('tanlinh.pdb', 'r')\r\n",
        "print(read_molecule(input_file))\r\n",
        "input_file.close()"
      ],
      "outputs": [
        {
          "output_type": "stream",
          "name": "stdout",
          "text": [
            "Luu Tan Linh\n",
            "187IT20929\n",
            "TP.HCM\n",
            "CNTT\n",
            "None\n"
          ]
        }
      ],
      "metadata": {}
    }
  ]
}