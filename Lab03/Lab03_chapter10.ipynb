{
  "nbformat": 4,
  "nbformat_minor": 0,
  "metadata": {
    "colab": {
      "name": "Lab03_chapter10.ipynb",
      "provenance": [],
      "collapsed_sections": [],
      "authorship_tag": "ABX9TyNT87bYK4MNxGX4SSPpogjP",
      "include_colab_link": true
    },
    "kernelspec": {
      "name": "python3",
      "display_name": "Python 3"
    },
    "language_info": {
      "name": "python"
    }
  },
  "cells": [
    {
      "cell_type": "markdown",
      "metadata": {
        "id": "view-in-github",
        "colab_type": "text"
      },
      "source": [
        "<a href=\"https://colab.research.google.com/github/TanLinh15/LTPythonNC/blob/main/Lab03/Lab03_chapter10.ipynb\" target=\"_parent\"><img src=\"https://colab.research.google.com/assets/colab-badge.svg\" alt=\"Open In Colab\"/></a>"
      ]
    },
    {
      "cell_type": "markdown",
      "metadata": {
        "id": "XNfMc3ckUpNS"
      },
      "source": [
        "Bai 1"
      ]
    },
    {
      "cell_type": "code",
      "metadata": {
        "colab": {
          "base_uri": "https://localhost:8080/"
        },
        "id": "iWQdjIjrUg0v",
        "outputId": "06ff82c3-d12a-4292-aec7-abc429370dff"
      },
      "source": [
        "filename = input('Which file would you like to back-up? ')\n",
        "new_filename = filename + '.bak'\n",
        "backup = open(new_filename, 'w')\n",
        "\n",
        "for line in open(filename):\n",
        " backup.write(line)\n",
        " \n",
        "backup.close()"
      ],
      "execution_count": 22,
      "outputs": [
        {
          "name": "stdout",
          "output_type": "stream",
          "text": [
            "Which file would you like to back-up? file1\n"
          ]
        }
      ]
    },
    {
      "cell_type": "markdown",
      "metadata": {
        "id": "T4-4knJFVgKw"
      },
      "source": [
        "Bai 2"
      ]
    },
    {
      "cell_type": "code",
      "metadata": {
        "id": "O224FS7eVerQ",
        "colab": {
          "base_uri": "https://localhost:8080/"
        },
        "outputId": "eedf7dac-a197-4cbf-9208-e8ed05b2aebc"
      },
      "source": [
        "alkaline_metals = []\n",
        "for line in open('alkaline_metals.txt'):\n",
        " alkaline_metals.append(line.strip().split(' '))\n",
        "print(alkaline_metals)"
      ],
      "execution_count": 17,
      "outputs": [
        {
          "output_type": "stream",
          "name": "stdout",
          "text": [
            "[['beryllium', '4', '9.012'], ['magnesium', '12', '24.305'], ['calcium', '20', '20.078'], ['strontium', '38', '87.62'], ['barium', '56', '137.327'], ['radium', '88', '226']]\n"
          ]
        }
      ]
    },
    {
      "cell_type": "markdown",
      "metadata": {
        "id": "5sCvYOWbYCXW"
      },
      "source": [
        "Bai 3"
      ]
    },
    {
      "cell_type": "markdown",
      "metadata": {
        "id": "ujnBPI1xYD7Y"
      },
      "source": [
        ""
      ]
    },
    {
      "cell_type": "markdown",
      "metadata": {
        "id": "mwLWSdjMYET1"
      },
      "source": [
        "Bai 4"
      ]
    },
    {
      "cell_type": "code",
      "metadata": {
        "id": "STcD36R3YF7f"
      },
      "source": [
        "def process_file(reader):\n",
        " \"\"\" (file open for reading) -> NoneType\n",
        " Read and print the data from reader, which must start with a single\n",
        " description line, then a sequence of lines beginning with '#', then a\n",
        " sequence of data.\n",
        " \"\"\"\n",
        " # Find and print the first piece of data.\n",
        " line = skip_header(reader).strip()\n",
        " print(line)\n",
        " # Read the rest of the data.\n",
        " print(reader.read())"
      ],
      "execution_count": 20,
      "outputs": []
    }
  ]
}