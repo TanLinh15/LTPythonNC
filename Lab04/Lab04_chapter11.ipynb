{
  "cells": [
    {
      "cell_type": "markdown",
      "metadata": {
        "colab_type": "text",
        "id": "view-in-github"
      },
      "source": [
        "<a href=\"https://colab.research.google.com/github/TanLinh15/LTPythonNC/blob/main/Lab04/Lab04_chapter11.ipynb\" target=\"_parent\"><img src=\"https://colab.research.google.com/assets/colab-badge.svg\" alt=\"Open In Colab\"/></a>"
      ]
    },
    {
      "cell_type": "markdown",
      "metadata": {},
      "source": [
        "Bài 1"
      ]
    },
    {
      "cell_type": "code",
      "execution_count": 1,
      "metadata": {
        "colab": {
          "base_uri": "https://localhost:8080/"
        },
        "id": "pOGz7IqHQkDF",
        "outputId": "d00ebb4b-8c5c-45d0-93f0-395542a5c4e5"
      },
      "outputs": [
        {
          "data": {
            "text/plain": [
              "{1, 2, 3}"
            ]
          },
          "execution_count": 1,
          "metadata": {},
          "output_type": "execute_result"
        }
      ],
      "source": [
        "def find_dups(L):\n",
        "    elem_set = set()\n",
        "    dups_set = set()\n",
        "    for entry in L:\n",
        "        len_initial = len(elem_set)\n",
        "        elem_set.add(entry)\n",
        "        len_after = len(elem_set)\n",
        "        if len_initial == len_after:\n",
        "            dups_set.add(entry)\n",
        "    return(dups_set)\n",
        "list_integers = [1,1,2,2,3,3,4,5,6,7,8,9]\n",
        "find_dups(list_integers)"
      ]
    },
    {
      "cell_type": "markdown",
      "metadata": {},
      "source": [
        "Bài 2"
      ]
    },
    {
      "cell_type": "code",
      "execution_count": 3,
      "metadata": {},
      "outputs": [
        {
          "name": "stdout",
          "output_type": "stream",
          "text": [
            "[['AMMONIA', ['N', '0.257', '-0.363', '0.000'], ['H', '0.257', '0.727', '0.000'], ['H', '0.771', '-0.727', '0.890'], ['H', '0.771', '-0.727', '-0.890']], ['METHANOL', ['C', '-0.748', '-0.015', '0.024'], ['O', '0.558', '0.420', '-0.278'], ['H', '-1.293', '-0.202', '-0.901'], ['H', '-1.263', '0.754', '0.600'], ['H', '-0.699', '-0.934', '0.609'], ['H', '0.716', '1.404', '0.137']]]\n"
          ]
        }
      ],
      "source": [
        "def read_molecule(reader):\n",
        "    \n",
        "    line = reader.readline()\n",
        "    if not line:\n",
        "        return None\n",
        "\n",
        "    key, name = line.split()\n",
        "\n",
        "    molecule = [name]\n",
        "    line = reader.readline()\n",
        "    \n",
        "   \n",
        "    while not line.startswith('END'):\n",
        "        key, num, atom_type, x, y, z = line.split()\n",
        "        molecule.append([atom_type, x, y, z])\n",
        "        line = reader.readline()\n",
        "    return molecule\n",
        "\n",
        "def read_all_molecules(reader):\n",
        "    result = []\n",
        "    reading = True\n",
        "    while reading:\n",
        "        molecule = read_molecule(reader)\n",
        "        if molecule: \n",
        "            result.append(molecule)\n",
        "        else:\n",
        "            reading = False\n",
        "    return result\n",
        "if __name__ == \"__main__\":\n",
        "    molecule_file = open('multimol.pdb','r')\n",
        "    molecules = read_all_molecules(molecule_file)\n",
        "    print(molecules)"
      ]
    },
    {
      "cell_type": "markdown",
      "metadata": {},
      "source": [
        "Bài 3"
      ]
    },
    {
      "cell_type": "code",
      "execution_count": 4,
      "metadata": {},
      "outputs": [
        {
          "data": {
            "text/plain": [
              "{('Nam1', 'Nu2'), ('Nam2', 'Nu1'), ('Nam3', 'Nu3')}"
            ]
          },
          "execution_count": 4,
          "metadata": {},
          "output_type": "execute_result"
        }
      ],
      "source": [
        "def mating_pairs(males, females):\n",
        "    try:\n",
        "        pairs = set()\n",
        "        num_gerbils = len(males)\n",
        "        for i in range(num_gerbils):\n",
        "            male = males.pop()\n",
        "            female = females.pop()\n",
        "            pairs.add((male, female),)\n",
        "        return pairs\n",
        "    except:\n",
        "        return print(\"Số lượng Males và Females phải bằng nhau\")\n",
        "males = {'Nam1', 'Nam2', 'Nam3'}\n",
        "females = {'Nu1', 'Nu2', 'Nu3'}\n",
        "mating_pairs(males, females)"
      ]
    },
    {
      "cell_type": "markdown",
      "metadata": {},
      "source": [
        "Bài 4"
      ]
    },
    {
      "cell_type": "code",
      "execution_count": 9,
      "metadata": {},
      "outputs": [
        {
          "name": "stdout",
          "output_type": "stream",
          "text": [
            "{'J.K.Rowling', 'Luu Tan Linh'}\n"
          ]
        }
      ],
      "source": [
        "def get_authors(filenames):\n",
        "    authors = set()\n",
        "    for filename in filenames:\n",
        "        for line in open(filename,'r'):\n",
        "            if line.lower().startswith('author'):\n",
        "                author = line[6:].strip()\n",
        "                authors.add(author)\n",
        "    return authors\n",
        "if __name__ == \"__main__\":\n",
        "    list_file = ['PDB_1.pdb','PDB_2.pdb']\n",
        "    print(get_authors(list_file))"
      ]
    },
    {
      "cell_type": "code",
      "execution_count": 28,
      "metadata": {},
      "outputs": [
        {
          "name": "stdout",
          "output_type": "stream",
          "text": [
            "2\n"
          ]
        }
      ],
      "source": [
        "#Cau5 \n",
        "from typing import Dict\n",
        "def count_values(inDict: Dict) -> int:\n",
        "    \n",
        "    finalList = []\n",
        "\n",
        "    for i in inDict.values():\n",
        "        if i not in finalList:\n",
        "            finalList.append(i)\n",
        "    \n",
        "    return len(finalList)\n",
        "\n",
        "\n",
        "\n",
        "color = {'red':1,'green':1,'blue':2}\n",
        "\n",
        "print(count_values(color))"
      ]
    },
    {
      "cell_type": "code",
      "execution_count": 29,
      "metadata": {},
      "outputs": [
        {
          "name": "stdout",
          "output_type": "stream",
          "text": [
            "meson \n"
          ]
        }
      ],
      "source": [
        "#Cau6\n",
        "\n",
        "\n",
        "def leastProbable(particleDict: Dict[str, float]) -> str:\n",
        "    minValue = min(particleDict.values())\n",
        "    printValue = ''\n",
        "    for key,value in particleDict.items():\n",
        "        if value == minValue:\n",
        "            return key\n",
        "\n",
        "\n",
        "values = { 'neutron ': 0.55,  'proton ': 0.21,  'meson ': 0.03,  'muon ': 0.07,  'neutrino ': 0.14}\n",
        "print(leastProbable(values))"
      ]
    },
    {
      "cell_type": "code",
      "execution_count": 30,
      "metadata": {},
      "outputs": [
        {
          "name": "stdout",
          "output_type": "stream",
          "text": [
            "2\n"
          ]
        }
      ],
      "source": [
        "\n",
        "\n",
        "#Cau 7\n",
        "def count_duplicates(inDict) -> int:\n",
        "\n",
        "    lstAllValues = []\n",
        "    lstAdditional = []\n",
        "    lstFinal = []\n",
        "\n",
        "    for i in inDict.values():\n",
        "        lstAllValues.append(i)\n",
        "        lstAdditional.append(i)\n",
        "    \n",
        "    lstFinal = set(lstAllValues).intersection(lstAdditional)\n",
        "\n",
        "    return(len(lstAllValues) - len(lstFinal))\n",
        "\n",
        "# How to use it :\n",
        "\n",
        "number = {'one' : 1, 'two' : 2, 'two1' : 2, 'three1' : 3,'three' : 3}\n",
        "\n",
        "print(count_duplicates(number))"
      ]
    },
    {
      "cell_type": "code",
      "execution_count": 31,
      "metadata": {},
      "outputs": [
        {
          "name": "stdout",
          "output_type": "stream",
          "text": [
            "True\n"
          ]
        }
      ],
      "source": [
        "#Cau8\n",
        "def is_balanced (inDict:[str, float]) -> bool:\n",
        "    \n",
        "    sumVar = 0.0\n",
        "\n",
        "    for i in inDict.values():\n",
        "        sumVar = sumVar + i \n",
        "\n",
        "    return sumVar == 1\n",
        "\n",
        "\n",
        "RGB = {'R' : 0.2 , 'G' : 0.2, 'B' : 0.6}\n",
        "\n",
        "print(is_balanced(RGB))"
      ]
    },
    {
      "cell_type": "code",
      "execution_count": 13,
      "metadata": {},
      "outputs": [
        {
          "name": "stdout",
          "output_type": "stream",
          "text": [
            "{'one': 1}\n"
          ]
        }
      ],
      "source": [
        "#Cau 9\n",
        "def dict_intersect(inDict, inDict1) -> dict :\n",
        "    \n",
        "    return dict(inDict.items() & inDict1.items())\n",
        "\n",
        "\n",
        "\n",
        "# How to use it :\n",
        "\n",
        "Dictionary0 = {'one' : 1, 'two' : 2 }\n",
        "Dictionary1 = {'one' : 1, 'three' : 2 }\n",
        "\n",
        "print(dict_intersect(Dictionary0,Dictionary1))"
      ]
    },
    {
      "cell_type": "code",
      "execution_count": 52,
      "metadata": {},
      "outputs": [
        {
          "name": "stdout",
          "output_type": "stream",
          "text": [
            "{'born', 'surname', 'notes', 'died', 'author', 'forename'}\n"
          ]
        }
      ],
      "source": [
        "#Cau 10 \n",
        "def db_headings(inDict):\n",
        "    \n",
        "    keysInner = set()\n",
        "\n",
        "    for key in inDict.keys():\n",
        "        for inKey in inDict[key]:\n",
        "            keysInner.add(inKey)\n",
        "    \n",
        "    return keysInner\n",
        "\n",
        "\n",
        "print(db_headings(scientists))"
      ]
    },
    {
      "cell_type": "code",
      "execution_count": 63,
      "metadata": {},
      "outputs": [
        {
          "name": "stdout",
          "output_type": "stream",
          "text": [
            "False\n"
          ]
        }
      ],
      "source": [
        "#Cau11\n",
        "def db_consistent(inDict):\n",
        "    innerDictKeys = []\n",
        "\n",
        "    for outerKey in inDict:\n",
        "        tempKeys = list(inDict[outerKey].keys())\n",
        "        tempKeys.sort()\n",
        "        innerDictKeys.append(tempKeys)\n",
        "\n",
        "    for i in range(1,len(innerDictKeys)):\n",
        "        if len(innerDictKeys[0]) != len(innerDictKeys[i]):\n",
        "            return False\n",
        "\n",
        "        for j in range(len(innerDictKeys[0])):\n",
        "            if innerDictKeys[0][j] != innerDictKeys[i][j]:\n",
        "                return False\n",
        "\n",
        "    return True\n",
        "print(db_consistent(scientists))"
      ]
    }
  ],
  "metadata": {
    "colab": {
      "authorship_tag": "ABX9TyPWqef+m4GrR46WbSt8jpRi",
      "include_colab_link": true,
      "name": "Lab04_chapter11.ipynb",
      "provenance": []
    },
    "interpreter": {
      "hash": "c87de2b6040ac83b8c8d5d132d8f1ada46437f2e41830b250d8975c08880fc48"
    },
    "kernelspec": {
      "display_name": "Python 3.9.7 64-bit (windows store)",
      "name": "python3"
    },
    "language_info": {
      "codemirror_mode": {
        "name": "ipython",
        "version": 3
      },
      "file_extension": ".py",
      "mimetype": "text/x-python",
      "name": "python",
      "nbconvert_exporter": "python",
      "pygments_lexer": "ipython3",
      "version": "3.9.7"
    }
  },
  "nbformat": 4,
  "nbformat_minor": 0
}
