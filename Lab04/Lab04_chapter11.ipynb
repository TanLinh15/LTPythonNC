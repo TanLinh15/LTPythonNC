{
  "nbformat": 4,
  "nbformat_minor": 0,
  "metadata": {
    "colab": {
      "name": "Lab04_chapter11.ipynb",
      "provenance": [],
      "authorship_tag": "ABX9TyPWqef+m4GrR46WbSt8jpRi",
      "include_colab_link": true
    },
    "kernelspec": {
      "name": "python3",
      "display_name": "Python 3"
    },
    "language_info": {
      "name": "python"
    }
  },
  "cells": [
    {
      "cell_type": "markdown",
      "metadata": {
        "id": "view-in-github",
        "colab_type": "text"
      },
      "source": [
        "<a href=\"https://colab.research.google.com/github/TanLinh15/LTPythonNC/blob/main/Lab04/Lab04_chapter11.ipynb\" target=\"_parent\"><img src=\"https://colab.research.google.com/assets/colab-badge.svg\" alt=\"Open In Colab\"/></a>"
      ]
    },
    {
      "cell_type": "code",
      "metadata": {
        "colab": {
          "base_uri": "https://localhost:8080/"
        },
        "id": "pOGz7IqHQkDF",
        "outputId": "d00ebb4b-8c5c-45d0-93f0-395542a5c4e5"
      },
      "source": [
        "def find_dups(L):\n",
        "    elem_set = set()\n",
        "    dups_set = set()\n",
        "    for entry in L:\n",
        "        len_initial = len(elem_set)\n",
        "        elem_set.add(entry)\n",
        "        len_after = len(elem_set)\n",
        "        if len_initial == len_after:\n",
        "            dups_set.add(entry)\n",
        "    return(dups_set)\n",
        "list_integers = [1,1,2,2,3,3,4,5,6,7,8,9]\n",
        "find_dups(list_integers)"
      ],
      "execution_count": 2,
      "outputs": [
        {
          "output_type": "execute_result",
          "data": {
            "text/plain": [
              "{1, 2, 3}"
            ]
          },
          "metadata": {},
          "execution_count": 2
        }
      ]
    }
  ]
}