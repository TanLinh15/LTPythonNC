{
  "cells": [
    {
      "cell_type": "markdown",
      "metadata": {
        "colab_type": "text",
        "id": "view-in-github"
      },
      "source": [
        "<a href=\"https://colab.research.google.com/github/TanLinh15/LTPythonNC/blob/main/Lab05/Lab05_chapter14.ipynb\" target=\"_parent\"><img src=\"https://colab.research.google.com/assets/colab-badge.svg\" alt=\"Open In Colab\"/></a>"
      ]
    },
    {
      "cell_type": "code",
      "execution_count": 2,
      "metadata": {
        "id": "Ql3kVXeLn1sU"
      },
      "outputs": [],
      "source": [
        "#Cau 1.\n",
        "#a.\n",
        "class country:\n",
        "    def __init__(self, name, population, area):\n",
        "        self.name = name\n",
        "        self.population = population\n",
        "        self.area = area\n",
        "\n",
        "    def is_larger(self, objCountry):\n",
        "        if self.arena > objCountry.area:\n",
        "            return True\n",
        "        else:\n",
        "            return False\n",
        "\n",
        "\n",
        "        "
      ]
    },
    {
      "cell_type": "code",
      "execution_count": 3,
      "metadata": {
        "colab": {
          "base_uri": "https://localhost:8080/",
          "height": 35
        },
        "id": "T9cGofBpn43t",
        "outputId": "3badd1ea-d730-4059-e33a-289c313c52be"
      },
      "outputs": [
        {
          "data": {
            "application/vnd.google.colaboratory.intrinsic+json": {
              "type": "string"
            },
            "text/plain": [
              "'Cananda'"
            ]
          },
          "execution_count": 3,
          "metadata": {},
          "output_type": "execute_result"
        }
      ],
      "source": [
        "canada = country('Cananda', 34482779, 9984670)\n",
        "canada.name"
      ]
    },
    {
      "cell_type": "code",
      "execution_count": 4,
      "metadata": {
        "colab": {
          "base_uri": "https://localhost:8080/"
        },
        "id": "7ufOILbZn6z6",
        "outputId": "0cf02f88-09cb-4bf8-e25e-b2d7093e0977"
      },
      "outputs": [
        {
          "data": {
            "text/plain": [
              "34482779"
            ]
          },
          "execution_count": 4,
          "metadata": {},
          "output_type": "execute_result"
        }
      ],
      "source": [
        "canada.population"
      ]
    },
    {
      "cell_type": "code",
      "execution_count": 5,
      "metadata": {
        "colab": {
          "base_uri": "https://localhost:8080/"
        },
        "id": "0wPdC9g6n8mR",
        "outputId": "410e2492-f8a4-44b3-b90a-d4848ec289e1"
      },
      "outputs": [
        {
          "data": {
            "text/plain": [
              "9984670"
            ]
          },
          "execution_count": 5,
          "metadata": {},
          "output_type": "execute_result"
        }
      ],
      "source": [
        "canada.area"
      ]
    },
    {
      "cell_type": "code",
      "execution_count": 4,
      "metadata": {
        "id": "QNpUrQbOoM-V"
      },
      "outputs": [],
      "source": [
        "#Cau 1.\n",
        "#b.\n",
        "class Country:\n",
        "    def __init__(self, name, population, area):\n",
        "        self.name = name\n",
        "        self.population = population\n",
        "        self.area = area\n",
        "\n",
        "    def is_larger(self, other):\n",
        "        if isinstance(other,Country):\n",
        "            return self.area > other.area\n",
        "        else:\n",
        "            print(\"Both objects need to be from class Country\")\n",
        "            return -1"
      ]
    },
    {
      "cell_type": "code",
      "execution_count": 6,
      "metadata": {},
      "outputs": [
        {
          "data": {
            "text/plain": [
              "True"
            ]
          },
          "execution_count": 6,
          "metadata": {},
          "output_type": "execute_result"
        }
      ],
      "source": [
        "canada = Country('Canada', 34482779, 9984670)\n",
        "usa = Country('United States of America', 313914040, 9826675)\n",
        "canada.is_larger(usa)\n"
      ]
    },
    {
      "cell_type": "code",
      "execution_count": null,
      "metadata": {},
      "outputs": [],
      "source": [
        "#Cau 1.\n",
        "#c.\n"
      ]
    }
  ],
  "metadata": {
    "colab": {
      "authorship_tag": "ABX9TyMGCDRhYXu/CLqav4om9gIB",
      "collapsed_sections": [],
      "include_colab_link": true,
      "name": "Lab05_chapter14.ipynb",
      "provenance": []
    },
    "interpreter": {
      "hash": "c87de2b6040ac83b8c8d5d132d8f1ada46437f2e41830b250d8975c08880fc48"
    },
    "kernelspec": {
      "display_name": "Python 3.9.7 64-bit (windows store)",
      "name": "python3"
    },
    "language_info": {
      "codemirror_mode": {
        "name": "ipython",
        "version": 3
      },
      "file_extension": ".py",
      "mimetype": "text/x-python",
      "name": "python",
      "nbconvert_exporter": "python",
      "pygments_lexer": "ipython3",
      "version": "3.9.7"
    }
  },
  "nbformat": 4,
  "nbformat_minor": 0
}
