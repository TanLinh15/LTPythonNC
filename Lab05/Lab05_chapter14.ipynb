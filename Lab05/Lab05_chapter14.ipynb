{
  "nbformat": 4,
  "nbformat_minor": 0,
  "metadata": {
    "colab": {
      "name": "Lab05_chapter14.ipynb",
      "provenance": [],
      "collapsed_sections": [],
      "authorship_tag": "ABX9TyMGCDRhYXu/CLqav4om9gIB",
      "include_colab_link": true
    },
    "kernelspec": {
      "name": "python3",
      "display_name": "Python 3"
    },
    "language_info": {
      "name": "python"
    }
  },
  "cells": [
    {
      "cell_type": "markdown",
      "metadata": {
        "id": "view-in-github",
        "colab_type": "text"
      },
      "source": [
        "<a href=\"https://colab.research.google.com/github/TanLinh15/LTPythonNC/blob/main/Lab05/Lab05_chapter14.ipynb\" target=\"_parent\"><img src=\"https://colab.research.google.com/assets/colab-badge.svg\" alt=\"Open In Colab\"/></a>"
      ]
    },
    {
      "cell_type": "code",
      "metadata": {
        "id": "Ql3kVXeLn1sU"
      },
      "source": [
        "#Cau 1.\n",
        "#a.\n",
        "class country:\n",
        "    def __init__(self, name, population, area):\n",
        "        self.name = name\n",
        "        self.population = population\n",
        "        self.area = area\n",
        "\n",
        "    def is_larger(self, objCountry):\n",
        "        if self.arena > objCountry.area:\n",
        "            return True\n",
        "        else:\n",
        "            return False\n",
        "\n",
        "\n",
        "        "
      ],
      "execution_count": 2,
      "outputs": []
    },
    {
      "cell_type": "code",
      "metadata": {
        "colab": {
          "base_uri": "https://localhost:8080/",
          "height": 35
        },
        "id": "T9cGofBpn43t",
        "outputId": "3badd1ea-d730-4059-e33a-289c313c52be"
      },
      "source": [
        "canada = country('Cananda', 34482779, 9984670)\n",
        "canada.name"
      ],
      "execution_count": 3,
      "outputs": [
        {
          "output_type": "execute_result",
          "data": {
            "application/vnd.google.colaboratory.intrinsic+json": {
              "type": "string"
            },
            "text/plain": [
              "'Cananda'"
            ]
          },
          "metadata": {},
          "execution_count": 3
        }
      ]
    },
    {
      "cell_type": "code",
      "metadata": {
        "colab": {
          "base_uri": "https://localhost:8080/"
        },
        "id": "7ufOILbZn6z6",
        "outputId": "0cf02f88-09cb-4bf8-e25e-b2d7093e0977"
      },
      "source": [
        "canada.population"
      ],
      "execution_count": 4,
      "outputs": [
        {
          "output_type": "execute_result",
          "data": {
            "text/plain": [
              "34482779"
            ]
          },
          "metadata": {},
          "execution_count": 4
        }
      ]
    },
    {
      "cell_type": "code",
      "metadata": {
        "colab": {
          "base_uri": "https://localhost:8080/"
        },
        "id": "0wPdC9g6n8mR",
        "outputId": "410e2492-f8a4-44b3-b90a-d4848ec289e1"
      },
      "source": [
        "canada.area"
      ],
      "execution_count": 5,
      "outputs": [
        {
          "output_type": "execute_result",
          "data": {
            "text/plain": [
              "9984670"
            ]
          },
          "metadata": {},
          "execution_count": 5
        }
      ]
    },
    {
      "cell_type": "code",
      "metadata": {
        "id": "QNpUrQbOoM-V"
      },
      "source": [
        "#Cau 1.\n",
        "#b.\n",
        "class Country:\n",
        "    def __init__(self, name, population, area):\n",
        "        self.name = name\n",
        "        self.population = population\n",
        "        self.area = area\n",
        "\n",
        "    def is_larger(self, other):\n",
        "        if isinstance(other,Country):\n",
        "            return self.area > other.area\n",
        "        else:\n",
        "            print(\"Both objects need to be from class Country\")\n",
        "            return -1"
      ],
      "execution_count": 6,
      "outputs": []
    }
  ]
}