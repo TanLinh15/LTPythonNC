{
  "nbformat": 4,
  "nbformat_minor": 0,
  "metadata": {
    "colab": {
      "name": "cau1.ipynb",
      "provenance": [],
      "authorship_tag": "ABX9TyOu+C3G5uS16J2rqhx+OQA5",
      "include_colab_link": true
    },
    "kernelspec": {
      "name": "python3",
      "display_name": "Python 3"
    },
    "language_info": {
      "name": "python"
    }
  },
  "cells": [
    {
      "cell_type": "markdown",
      "metadata": {
        "id": "view-in-github",
        "colab_type": "text"
      },
      "source": [
        "<a href=\"https://colab.research.google.com/github/TanLinh15/LTPythonNC/blob/main/Lab05/cau1.ipynb\" target=\"_parent\"><img src=\"https://colab.research.google.com/assets/colab-badge.svg\" alt=\"Open In Colab\"/></a>"
      ]
    },
    {
      "cell_type": "code",
      "metadata": {
        "id": "bCvL68Ad8Oiq"
      },
      "source": [
        "from Country import Country"
      ],
      "execution_count": null,
      "outputs": []
    },
    {
      "cell_type": "code",
      "metadata": {
        "id": "Q61TCxBM8QUB"
      },
      "source": [
        "canada = Country('Canada', 34482779, 9984670)\n",
        "canada.name\n",
        "canada.area"
      ],
      "execution_count": null,
      "outputs": []
    },
    {
      "cell_type": "code",
      "metadata": {
        "id": "jWe640i68d7l"
      },
      "source": [
        "canada = Country('Canada', 34482779, 9984670)\n",
        "usa = Country('United States of America', 313914040, 9826675)\n",
        "canada.is_larger(usa)"
      ],
      "execution_count": null,
      "outputs": []
    },
    {
      "cell_type": "code",
      "metadata": {
        "id": "Pni1N0vV8jCg"
      },
      "source": [
        "canada.population_density()"
      ],
      "execution_count": null,
      "outputs": []
    },
    {
      "cell_type": "code",
      "metadata": {
        "id": "EoQMU-on8k_M"
      },
      "source": [
        "usa = Country('United States of America', 313914040, 9826675)\n",
        "print(usa)"
      ],
      "execution_count": null,
      "outputs": []
    },
    {
      "cell_type": "code",
      "metadata": {
        "id": "TmXyOxyy8k4B"
      },
      "source": [
        "canada = Country('Canada', 34482779, 9984670)\n",
        "canada\n",
        "print(canada)\n",
        "[canada]\n",
        "print([canada])\n"
      ],
      "execution_count": null,
      "outputs": []
    }
  ]
}