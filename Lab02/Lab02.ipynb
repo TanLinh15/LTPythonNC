{
  "nbformat": 4,
  "nbformat_minor": 0,
  "metadata": {
    "colab": {
      "name": "Lab02.ipynb",
      "provenance": [],
      "authorship_tag": "ABX9TyN/F3kaYdBA0iYsAR5KrBBi",
      "include_colab_link": true
    },
    "kernelspec": {
      "name": "python3",
      "display_name": "Python 3"
    },
    "language_info": {
      "name": "python"
    }
  },
  "cells": [
    {
      "cell_type": "markdown",
      "metadata": {
        "id": "view-in-github",
        "colab_type": "text"
      },
      "source": [
        "<a href=\"https://colab.research.google.com/github/TanLinh15/LTPythonNC/blob/main/Lab02/Lab02.ipynb\" target=\"_parent\"><img src=\"https://colab.research.google.com/assets/colab-badge.svg\" alt=\"Open In Colab\"/></a>"
      ]
    },
    {
      "cell_type": "markdown",
      "metadata": {
        "id": "0Ri1JqEEYjho"
      },
      "source": [
        "Bai 1"
      ]
    },
    {
      "cell_type": "code",
      "metadata": {
        "colab": {
          "base_uri": "https://localhost:8080/"
        },
        "id": "uRV5RshrVhaC",
        "outputId": "a4317373-37a1-48e1-d53a-c43940d5c8c5"
      },
      "source": [
        "kingdoms =['Bacteria', 'Protozoa', 'Chromista','Plantae', 'Fungi','Animalia']\n",
        "#câu a\n",
        "print(kingdoms[0])\n",
        "#câu b\n",
        "print(kingdoms[5])\n",
        "#câu c\n",
        "print(kingdoms[:3])\n",
        "#câu d\n",
        "print(kingdoms[2:5])\n",
        "#câu e\n",
        "print(kingdoms[4:])\n",
        "#câu f\n",
        "print(kingdoms[1:0])\n"
      ],
      "execution_count": 1,
      "outputs": [
        {
          "output_type": "stream",
          "name": "stdout",
          "text": [
            "Bacteria\n",
            "Animalia\n",
            "['Bacteria', 'Protozoa', 'Chromista']\n",
            "['Chromista', 'Plantae', 'Fungi']\n",
            "['Fungi', 'Animalia']\n",
            "[]\n"
          ]
        }
      ]
    },
    {
      "cell_type": "markdown",
      "metadata": {
        "id": "gqUa2MvQaDa4"
      },
      "source": [
        "Bai 2"
      ]
    },
    {
      "cell_type": "code",
      "metadata": {
        "colab": {
          "base_uri": "https://localhost:8080/"
        },
        "id": "fs_G3mgGXxpK",
        "outputId": "f9e84c33-7daf-445d-df5c-21637599cd67"
      },
      "source": [
        "kingdoms =['Bacteria', 'Protozoa', 'Chromista','Plantae', 'Fungi','Animalia']\n",
        "#câu a\n",
        "print(kingdoms[-6])\n",
        "#câu b\n",
        "print(kingdoms[-1])\n",
        "#câu c\n",
        "print(kingdoms[-6:-3])\n",
        "#câu d\n",
        "print(kingdoms[-4:-1])\n",
        "#câu e\n",
        "print(kingdoms[-2:])\n",
        "#câu f\n",
        "print(kingdoms[-1:-2])\n"
      ],
      "execution_count": 2,
      "outputs": [
        {
          "output_type": "stream",
          "name": "stdout",
          "text": [
            "Bacteria\n",
            "Animalia\n",
            "['Bacteria', 'Protozoa', 'Chromista']\n",
            "['Chromista', 'Plantae', 'Fungi']\n",
            "['Fungi', 'Animalia']\n",
            "[]\n"
          ]
        }
      ]
    },
    {
      "cell_type": "markdown",
      "metadata": {
        "id": "PFPjsRhxaBXR"
      },
      "source": [
        "Bai 3"
      ]
    },
    {
      "cell_type": "code",
      "metadata": {
        "colab": {
          "base_uri": "https://localhost:8080/"
        },
        "id": "h14iLorvYiJi",
        "outputId": "8215551c-407c-4304-dc98-078fb646b0cf"
      },
      "source": [
        "appointments = ['9:00', '10:30', '14:00', '15:00', '15:30']\n",
        "appointments.append('16:30')\n",
        "appointments\n",
        "\n"
      ],
      "execution_count": 3,
      "outputs": [
        {
          "output_type": "execute_result",
          "data": {
            "text/plain": [
              "['9:00', '10:30', '14:00', '15:00', '15:30', '16:30']"
            ]
          },
          "metadata": {},
          "execution_count": 3
        }
      ]
    },
    {
      "cell_type": "markdown",
      "metadata": {
        "id": "rqSldpeSc92T"
      },
      "source": [
        "Bai 4"
      ]
    },
    {
      "cell_type": "code",
      "metadata": {
        "colab": {
          "base_uri": "https://localhost:8080/"
        },
        "id": "1ACM7Qvyagux",
        "outputId": "07e5a188-da88-4cd7-9980-7aa2fa39c136"
      },
      "source": [
        "ids =[4353, 2314, 2956, 3382, 9362, 3900]\n",
        "#cau a. \n",
        "ids.remove(3382)\n",
        "print(ids)\n",
        "#cau b. \n",
        "ids.index(9362)\n",
        "print(ids)\n",
        "#cau c. \n",
        "ids.insert(ids.index(9362) + 1, 4499)\n",
        "print(ids)\n",
        "#cau d. \n",
        "ids = ids + [5566, 1830]\n",
        "print(ids)\n",
        "#cau e. \n",
        "ids.reverse()\n",
        "print(ids)\n",
        "#cau f. \n",
        "ids.sort()\n",
        "print(ids)"
      ],
      "execution_count": 20,
      "outputs": [
        {
          "output_type": "stream",
          "name": "stdout",
          "text": [
            "[4353, 2314, 2956, 9362, 3900]\n",
            "[4353, 2314, 2956, 9362, 3900]\n",
            "[4353, 2314, 2956, 9362, 4499, 3900]\n",
            "[4353, 2314, 2956, 9362, 4499, 3900, 5566, 1830]\n",
            "[1830, 5566, 3900, 4499, 9362, 2956, 2314, 4353]\n",
            "[1830, 2314, 2956, 3900, 4353, 4499, 5566, 9362]\n"
          ]
        }
      ]
    },
    {
      "cell_type": "markdown",
      "metadata": {
        "id": "dIlwDFmGdCBG"
      },
      "source": [
        "Bai 5"
      ]
    },
    {
      "cell_type": "code",
      "metadata": {
        "colab": {
          "base_uri": "https://localhost:8080/"
        },
        "id": "U1Fh1RD0dDEI",
        "outputId": "3cb80568-1acb-41a1-b82d-0616518343fc"
      },
      "source": [
        "alkaline_earth_metals = ['metals—beryllium','magnesium', ' calcium',' strontium','barium','radium']\n",
        "#Cau a. \n",
        "alkaline_earth_metals = [4, 12, 20, 38, 56, 88]\n",
        "#Cau b. \n",
        "print(alkaline_earth_metals[5], alkaline_earth_metals[-1])\n",
        "#Cau c. \n",
        "print(len(alkaline_earth_metals))\n",
        "#Cau d. \n",
        "print(max(alkaline_earth_metals))"
      ],
      "execution_count": 31,
      "outputs": [
        {
          "output_type": "stream",
          "name": "stdout",
          "text": [
            "88 88\n",
            "6\n",
            "88\n"
          ]
        }
      ]
    },
    {
      "cell_type": "markdown",
      "metadata": {
        "id": "iYy846Y4gjBT"
      },
      "source": [
        "Bai 6"
      ]
    },
    {
      "cell_type": "code",
      "metadata": {
        "colab": {
          "base_uri": "https://localhost:8080/"
        },
        "id": "f7Lasohngkqi",
        "outputId": "c32b53f8-bd8f-4d3c-bd79-a829afeabd0c"
      },
      "source": [
        "\n",
        "#Cau a. \n",
        "temps = [25.2, 16.8, 31.4, 23.9, 28, 22.5, 19.6]\n",
        "print(temps)\n",
        "#Cau b. \n",
        "temps.sort()\n",
        "print(temps)\n",
        "#Cau c.\n",
        "cool_temps = temps[0:2]\n",
        "print(cool_temps)\n",
        "warm_temps = temps[2:]\n",
        "print(warm_temps)\n",
        "#Cau d. \n",
        "temps_in_celsius = cool_temps + warm_temps\n",
        "print(temps_in_celsius)\n"
      ],
      "execution_count": 41,
      "outputs": [
        {
          "output_type": "stream",
          "name": "stdout",
          "text": [
            "[25.2, 16.8, 31.4, 23.9, 28, 22.5, 19.6]\n",
            "[16.8, 19.6, 22.5, 23.9, 25.2, 28, 31.4]\n",
            "[16.8, 19.6]\n",
            "[22.5, 23.9, 25.2, 28, 31.4]\n",
            "[16.8, 19.6, 22.5, 23.9, 25.2, 28, 31.4]\n"
          ]
        }
      ]
    }
  ]
}